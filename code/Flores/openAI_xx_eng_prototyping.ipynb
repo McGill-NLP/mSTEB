{
 "cells": [
  {
   "cell_type": "code",
   "execution_count": null,
   "id": "471a3335-4595-41b5-a377-fe17d4b926bf",
   "metadata": {},
   "outputs": [],
   "source": [
    "import os\n",
    "import openai\n",
    "import json\n",
    "import pandas as pd\n",
    "from datasets import load_dataset\n",
    "\n",
    "os.environ[\"OPENAI_API_KEY\"] = ''\n",
    "from openai import OpenAI\n",
    "client = OpenAI()\n",
    "\n",
    "# Load the FLORES dataset from Hugging Face\n",
    "# dataset = load_dataset(\"facebook/flores\", \"all\")  # Loads all languages"
   ]
  },
  {
   "cell_type": "code",
   "execution_count": 3,
   "id": "78ec9bd0-f0a5-4367-bd9d-d669fd386a92",
   "metadata": {},
   "outputs": [
    {
     "data": {
      "text/plain": [
       "datasets.dataset_dict.DatasetDict"
      ]
     },
     "execution_count": 3,
     "metadata": {},
     "output_type": "execute_result"
    }
   ],
   "source": [
    "type(dataset)"
   ]
  },
  {
   "cell_type": "code",
   "execution_count": 4,
   "id": "9d828862-b521-4d7b-a5a7-cb3790b0b0cd",
   "metadata": {},
   "outputs": [
    {
     "data": {
      "text/plain": [
       "2"
      ]
     },
     "execution_count": 4,
     "metadata": {},
     "output_type": "execute_result"
    }
   ],
   "source": [
    "len(dataset)"
   ]
  },
  {
   "cell_type": "code",
   "execution_count": 6,
   "id": "a8843e1d-cc6e-4496-91d3-86510b272423",
   "metadata": {},
   "outputs": [
    {
     "data": {
      "text/plain": [
       "dict_keys(['dev', 'devtest'])"
      ]
     },
     "execution_count": 6,
     "metadata": {},
     "output_type": "execute_result"
    }
   ],
   "source": [
    "dataset.keys()"
   ]
  },
  {
   "cell_type": "code",
   "execution_count": 34,
   "id": "5be4debc-96df-4d9f-8fe0-33c8ab70e485",
   "metadata": {},
   "outputs": [
    {
     "data": {
      "text/plain": [
       "1012"
      ]
     },
     "execution_count": 34,
     "metadata": {},
     "output_type": "execute_result"
    }
   ],
   "source": [
    "len(dataset['devtest'])"
   ]
  },
  {
   "cell_type": "code",
   "execution_count": 5,
   "id": "b5a2af01-8890-401e-800b-e719fdbefa45",
   "metadata": {},
   "outputs": [
    {
     "data": {
      "text/plain": [
       "'Acehnese (Arabic script)'"
      ]
     },
     "execution_count": 5,
     "metadata": {},
     "output_type": "execute_result"
    }
   ],
   "source": [
    "language_sentences = ['sentence_ace_Arab', 'sentence_bam_Latn', 'sentence_dzo_Tibt', 'sentence_hin_Deva', 'sentence_khm_Khmr', 'sentence_mag_Deva', 'sentence_pap_Latn', 'sentence_sot_Latn', 'sentence_tur_Latn', 'sentence_ace_Latn', 'sentence_ban_Latn', 'sentence_ell_Grek', 'sentence_hne_Deva', 'sentence_kik_Latn', 'sentence_mai_Deva', 'sentence_pbt_Arab', 'sentence_spa_Latn', 'sentence_twi_Latn', 'sentence_acm_Arab', 'sentence_bel_Cyrl', 'sentence_eng_Latn', 'sentence_hrv_Latn', 'sentence_kin_Latn', 'sentence_mal_Mlym', 'sentence_pes_Arab', 'sentence_srd_Latn', 'sentence_tzm_Tfng', 'sentence_acq_Arab', 'sentence_bem_Latn', 'sentence_epo_Latn', 'sentence_hun_Latn', 'sentence_kir_Cyrl', 'sentence_mar_Deva', 'sentence_plt_Latn', 'sentence_srp_Cyrl', 'sentence_uig_Arab', 'sentence_aeb_Arab', 'sentence_ben_Beng', 'sentence_est_Latn', 'sentence_hye_Armn', 'sentence_kmb_Latn', 'sentence_min_Arab', 'sentence_pol_Latn', 'sentence_ssw_Latn', 'sentence_ukr_Cyrl', 'sentence_afr_Latn', 'sentence_bho_Deva', 'sentence_eus_Latn', 'sentence_ibo_Latn', 'sentence_kmr_Latn', 'sentence_min_Latn', 'sentence_por_Latn', 'sentence_sun_Latn', 'sentence_umb_Latn', 'sentence_ajp_Arab', 'sentence_bjn_Arab', 'sentence_ewe_Latn', 'sentence_ilo_Latn', 'sentence_knc_Arab', 'sentence_mkd_Cyrl', 'sentence_prs_Arab', 'sentence_swe_Latn', 'sentence_urd_Arab', 'sentence_aka_Latn', 'sentence_bjn_Latn', 'sentence_fao_Latn', 'sentence_ind_Latn', 'sentence_knc_Latn', 'sentence_mlt_Latn', 'sentence_quy_Latn', 'sentence_swh_Latn', 'sentence_uzn_Latn', 'sentence_als_Latn', 'sentence_bod_Tibt', 'sentence_fij_Latn', 'sentence_isl_Latn', 'sentence_kon_Latn', 'sentence_mni_Beng', 'sentence_ron_Latn', 'sentence_szl_Latn', 'sentence_vec_Latn', 'sentence_amh_Ethi', 'sentence_bos_Latn', 'sentence_fin_Latn', 'sentence_ita_Latn', 'sentence_kor_Hang', 'sentence_mos_Latn', 'sentence_run_Latn', 'sentence_tam_Taml', 'sentence_vie_Latn', 'sentence_apc_Arab', 'sentence_bug_Latn', 'sentence_fon_Latn', 'sentence_jav_Latn', 'sentence_lao_Laoo', 'sentence_mri_Latn', 'sentence_rus_Cyrl', 'sentence_taq_Latn', 'sentence_war_Latn', 'sentence_arb_Arab', 'sentence_bul_Cyrl', 'sentence_fra_Latn', 'sentence_jpn_Jpan', 'sentence_lij_Latn', 'sentence_mya_Mymr', 'sentence_sag_Latn', 'sentence_taq_Tfng', 'sentence_wol_Latn', 'sentence_arb_Latn', 'sentence_cat_Latn', 'sentence_fur_Latn', 'sentence_kab_Latn', 'sentence_lim_Latn', 'sentence_nld_Latn', 'sentence_san_Deva', 'sentence_tat_Cyrl', 'sentence_xho_Latn', 'sentence_ars_Arab', 'sentence_ceb_Latn', 'sentence_fuv_Latn', 'sentence_kac_Latn', 'sentence_lin_Latn', 'sentence_nno_Latn', 'sentence_sat_Olck', 'sentence_tel_Telu', 'sentence_ydd_Hebr', 'sentence_ary_Arab', 'sentence_ces_Latn', 'sentence_gaz_Latn', 'sentence_kam_Latn', 'sentence_lit_Latn', 'sentence_nob_Latn', 'sentence_scn_Latn', 'sentence_tgk_Cyrl', 'sentence_yor_Latn', 'sentence_arz_Arab', 'sentence_cjk_Latn', 'sentence_gla_Latn', 'sentence_kan_Knda', 'sentence_lmo_Latn', 'sentence_npi_Deva', 'sentence_shn_Mymr', 'sentence_tgl_Latn', 'sentence_yue_Hant', 'sentence_asm_Beng', 'sentence_ckb_Arab', 'sentence_gle_Latn', 'sentence_kas_Arab', 'sentence_ltg_Latn', 'sentence_nso_Latn', 'sentence_sin_Sinh', 'sentence_tha_Thai', 'sentence_zho_Hans', 'sentence_ast_Latn', 'sentence_crh_Latn', 'sentence_glg_Latn', 'sentence_kas_Deva', 'sentence_ltz_Latn', 'sentence_nus_Latn', 'sentence_slk_Latn', 'sentence_tir_Ethi', 'sentence_zho_Hant', 'sentence_awa_Deva', 'sentence_cym_Latn', 'sentence_grn_Latn', 'sentence_kat_Geor', 'sentence_lua_Latn', 'sentence_nya_Latn', 'sentence_slv_Latn', 'sentence_tpi_Latn', 'sentence_zsm_Latn', 'sentence_ayr_Latn', 'sentence_dan_Latn', 'sentence_guj_Gujr', 'sentence_kaz_Cyrl', 'sentence_lug_Latn', 'sentence_oci_Latn', 'sentence_smo_Latn', 'sentence_tsn_Latn', 'sentence_zul_Latn', 'sentence_azb_Arab', 'sentence_deu_Latn', 'sentence_hat_Latn', 'sentence_kbp_Latn', 'sentence_luo_Latn', 'sentence_ory_Orya', 'sentence_sna_Latn', 'sentence_tso_Latn', 'sentence_azj_Latn', 'sentence_dik_Latn', 'sentence_hau_Latn', 'sentence_kea_Latn', 'sentence_lus_Latn', 'sentence_pag_Latn', 'sentence_snd_Arab', 'sentence_tuk_Latn', 'sentence_bak_Cyrl', 'sentence_dyu_Latn', 'sentence_heb_Hebr', 'sentence_khk_Cyrl', 'sentence_lvs_Latn', 'sentence_pan_Guru', 'sentence_som_Latn', 'sentence_tum_Latn']\n",
    "language_mapping = pd.read_csv('language_mapping.csv')\n",
    "language_mapping_index = language_mapping.set_index('FLORES-200 code')['Language'].to_dict()\n",
    "language_name = language_sentences[0][9:]\n",
    "language_mapping_index[language_name]"
   ]
  },
  {
   "cell_type": "code",
   "execution_count": 64,
   "id": "d15ed787-2335-4249-8793-ed117ba66ebf",
   "metadata": {},
   "outputs": [],
   "source": [
    "prompt_xx_eng = (\"You are a translation expert. Translate the following {} sentences to English. \" \n",
    "     \"{}: {} \"\n",
    "    \"Please respond only in the format Translation:: \")"
   ]
  },
  {
   "cell_type": "code",
   "execution_count": 65,
   "id": "d08ce7ed-b683-410a-9a68-8916a4c95f46",
   "metadata": {},
   "outputs": [
    {
     "data": {
      "text/plain": [
       "'You are a translation expert. Translate the following Acehnese (Arabic script) sentences to English. Acehnese (Arabic script): يق أورو سنين، اوق علمون دري فکولتس کدوکترن يونيۏرسيتس ستانفورد ݢڤعموم اکن جتومى الت دياݢنوستيک بارو ڽڠ جوت ݢڤيليه اتو سيل منوروت جنيهجيه: چيڤ اوبيت ڽڠ جوت ݢچيتق ڽڠ جوت ݢڤݢت دڠون ڤرينتر ايڠ\\u200cکجيت ستندر دڠون يوم موڠکين نا سابوه سين ا.س. لم تيڤ سابوه. Please respond only in the formation Translation:: '"
      ]
     },
     "execution_count": 65,
     "metadata": {},
     "output_type": "execute_result"
    }
   ],
   "source": [
    "prompt_xx_eng.format(language_mapping_index[language_name],language_mapping_index[language_name],dataset['dev'][0]['sentence_ace_Arab'])"
   ]
  },
  {
   "cell_type": "code",
   "execution_count": 53,
   "id": "18dbbcd8-0fd6-4e72-88b0-b51889dd5ddc",
   "metadata": {},
   "outputs": [
    {
     "name": "stdout",
     "output_type": "stream",
     "text": [
      "{\n",
      " \"name\": \"chrF2++\",\n",
      " \"score\": 77.7,\n",
      " \"signature\": \"nrefs:1|case:mixed|eff:yes|nc:6|nw:2|space:no|version:2.5.1\",\n",
      " \"nrefs\": \"1\",\n",
      " \"case\": \"mixed\",\n",
      " \"eff\": \"yes\",\n",
      " \"nc\": \"6\",\n",
      " \"nw\": \"2\",\n",
      " \"space\": \"no\",\n",
      " \"version\": \"2.5.1\"\n",
      "}\n",
      "\u001b[0m"
     ]
    }
   ],
   "source": [
    "# https://github.com/facebookresearch/flores/blob/main/flores200/README.md\n",
    "!sacrebleu -m chrf --chrf-word-order 2 translation.txt < reference.txt\n"
   ]
  },
  {
   "cell_type": "code",
   "execution_count": 84,
   "id": "e67724dd-7a4b-4f4b-827c-590f32b48922",
   "metadata": {},
   "outputs": [],
   "source": [
    "import re\n",
    "def get_translation(prompt, errors):\n",
    "    completion = client.chat.completions.create(\n",
    "    model=\"gpt-4o\",\n",
    "    messages=[\n",
    "        {\n",
    "            \"role\": \"user\",\n",
    "            \"content\": prompt\n",
    "        }\n",
    "    ])\n",
    "    reply = completion.choices[0].message.content\n",
    "    match=re.search(r'Translation::.*', reply)\n",
    "    answer = \"\"\n",
    "    if match and match.group():\n",
    "        try:\n",
    "            answer = match.group()[14:]\n",
    "        except:\n",
    "            errors += 1 \n",
    "    return answer, errors"
   ]
  },
  {
   "cell_type": "code",
   "execution_count": 70,
   "id": "eba7415c-e62d-47b5-b04a-02b397202278",
   "metadata": {},
   "outputs": [],
   "source": [
    "x=prompt_xx_eng.format(language_mapping_index[language_name],language_mapping_index[language_name],dataset['devtest'][1]['sentence_ace_Arab'])"
   ]
  },
  {
   "cell_type": "code",
   "execution_count": 71,
   "id": "568ae335-51e4-47b4-829a-cdd0f5950b3d",
   "metadata": {},
   "outputs": [
    {
     "name": "stdout",
     "output_type": "stream",
     "text": [
      "You are a translation expert. Translate the following Acehnese (Arabic script) sentences to English. Acehnese (Arabic script): در. ايهود اور، ڤروفيسور کدوکترن بق يونيۏرسيتس دلهاوسي دي هليفاک‌س، نوفا سکوتيا ڠون کڤالا ديۏيسي كلينيس ڠون علميه دري اسوسياسي ديابيتيس کانادا ݢڤئيڠت بهوا ڤنليتين ڽو منتوڠ لم ماس ڽڠ کفون. Please respond only in the formation Translation:: \n"
     ]
    }
   ],
   "source": [
    "print(x)"
   ]
  },
  {
   "cell_type": "code",
   "execution_count": 72,
   "id": "e18f4d5a-de8e-4074-a82f-575bf1b89172",
   "metadata": {},
   "outputs": [],
   "source": [
    "completion = client.chat.completions.create(\n",
    "model=\"gpt-4o\",\n",
    "messages=[\n",
    "    {\n",
    "        \"role\": \"user\",\n",
    "        \"content\": x\n",
    "    }\n",
    "])\n",
    "reply = completion.choices[0].message.content"
   ]
  },
  {
   "cell_type": "code",
   "execution_count": 73,
   "id": "85d34de2-1492-43a9-bd23-762cf38ff1c6",
   "metadata": {},
   "outputs": [
    {
     "name": "stdout",
     "output_type": "stream",
     "text": [
      "Translation:: Dr. Ehud Ur, a professor of medicine at Dalhousie University in Halifax, Nova Scotia, who serves as the head of the clinical division of the Canadian Diabetes Association, reminded that his research is being carried out in the proper period.\n"
     ]
    }
   ],
   "source": [
    "print(reply)"
   ]
  },
  {
   "cell_type": "code",
   "execution_count": 74,
   "id": "a32d1526-c490-4920-845f-3e73c2c31f42",
   "metadata": {},
   "outputs": [],
   "source": [
    "match=re.search(r'Translation::.*', reply)\n"
   ]
  },
  {
   "cell_type": "code",
   "execution_count": 83,
   "id": "de7b011d-e2e7-44b2-a1ba-e8b0405d4496",
   "metadata": {},
   "outputs": [
    {
     "data": {
      "text/plain": [
       "'Dr. Ehud Ur, a professor of medicine at Dalhousie University in Halifax, Nova Scotia, who serves as the head of the clinical division of the Canadian Diabetes Association, reminded that his research is being carried out in the proper period.'"
      ]
     },
     "execution_count": 83,
     "metadata": {},
     "output_type": "execute_result"
    }
   ],
   "source": [
    "match.group()[14:]"
   ]
  },
  {
   "cell_type": "code",
   "execution_count": null,
   "id": "9314cdb7-9e1b-458f-8d84-544390109180",
   "metadata": {},
   "outputs": [],
   "source": [
    "match=re.search(r'Translation::.*', reply)\n",
    "answer = \"\"\n",
    "if match and match.group():\n",
    "    try:\n",
    "        answer = match.group()[14:]\n",
    "    except:\n",
    "        errors += 1 \n",
    "return answer, errors"
   ]
  },
  {
   "cell_type": "code",
   "execution_count": 61,
   "id": "ed795787-949b-4fca-8bc8-8f6d3f996185",
   "metadata": {},
   "outputs": [],
   "source": [
    "languages_to_run = ['ace_Arab']"
   ]
  },
  {
   "cell_type": "code",
   "execution_count": 86,
   "id": "cc4d3390-fc44-485b-91a1-1953fdcae0f5",
   "metadata": {},
   "outputs": [
    {
     "name": "stdout",
     "output_type": "stream",
     "text": [
      "ace_Arab\n"
     ]
    },
    {
     "name": "stderr",
     "output_type": "stream",
     "text": [
      "100%|███████████████████████████████████████████████████████████████████████████████████████████████████████████████████████████████████████████████████████████████████| 1012/1012 [19:19<00:00,  1.15s/it]"
     ]
    },
    {
     "name": "stdout",
     "output_type": "stream",
     "text": [
      "number of errors 0\n"
     ]
    },
    {
     "name": "stderr",
     "output_type": "stream",
     "text": [
      "\n"
     ]
    }
   ],
   "source": [
    "from tqdm import tqdm\n",
    "translations = {}\n",
    "\n",
    "for language_name in languages_to_run:\n",
    "    print(language_name)\n",
    "    errors = 0\n",
    "    translations[language_name]=[]\n",
    "    for i in tqdm(range(1012)): #length of devtest\n",
    "        sentence_xx = dataset['devtest'][i][\"sentence_{}\".format(language_name)]\n",
    "        prompt = prompt_xx_eng.format(language_mapping_index[language_name],language_mapping_index[language_name],sentence_xx)\n",
    "        english_translation, errors = get_translation(prompt, errors)\n",
    "        translations[language_name].append(english_translation)\n",
    "        \n",
    "    with open(\"translations_xx_eng/{}.txt\".format(language_name), \"w\", encoding=\"utf-8\") as f:\n",
    "        f.writelines(line + \"\\n\" for line in translations[language_name])\n",
    "    print(\"number of errors {}\".format(errors))"
   ]
  },
  {
   "cell_type": "code",
   "execution_count": null,
   "id": "1fa14fd4-d29e-4803-b016-5046ac0d1944",
   "metadata": {},
   "outputs": [],
   "source": [
    "#english sentences reference\n",
    "eng_sentences = []\n",
    "for i in range(1012): #length of devtest\n",
    "    sentence_eng = dataset['devtest'][i][\"sentence_eng_Latn\"]\n",
    "    eng_sentences.append(sentence_eng)\n",
    "with open(\"reference_xx_eng/eng_Latn.txt\", \"w\", encoding=\"utf-8\") as f:\n",
    "    f.writelines(line + \"\\n\" for line in eng_sentences)"
   ]
  },
  {
   "cell_type": "code",
   "execution_count": 2,
   "id": "cb7fbb77-501f-4983-a070-87736b4e9fff",
   "metadata": {},
   "outputs": [
    {
     "name": "stdout",
     "output_type": "stream",
     "text": [
      "{\n",
      " \"name\": \"chrF2++\",\n",
      " \"score\": 43.7,\n",
      " \"signature\": \"nrefs:1|case:mixed|eff:yes|nc:6|nw:2|space:no|version:2.5.1\",\n",
      " \"nrefs\": \"1\",\n",
      " \"case\": \"mixed\",\n",
      " \"eff\": \"yes\",\n",
      " \"nc\": \"6\",\n",
      " \"nw\": \"2\",\n",
      " \"space\": \"no\",\n",
      " \"version\": \"2.5.1\"\n",
      "}\n",
      "\u001b[0m"
     ]
    }
   ],
   "source": [
    "!sacrebleu -m chrf --chrf-word-order 2 translations_xx_eng/ace_Latn.txt < reference_xx_eng/eng_Latn.txt\n"
   ]
  },
  {
   "cell_type": "code",
   "execution_count": 3,
   "id": "e0a69188-0a18-462f-bbad-6a1f9d1aa6fe",
   "metadata": {},
   "outputs": [
    {
     "name": "stdout",
     "output_type": "stream",
     "text": [
      "sacreBLEU: System and reference streams have different lengths.\n",
      "\u001b[0m"
     ]
    }
   ],
   "source": [
    "!sacrebleu -m chrf --chrf-word-order 2 translations_eng_xx2/ace_Latn.txt < reference_eng_xx/ace_Latn.txt\n"
   ]
  },
  {
   "cell_type": "code",
   "execution_count": 1,
   "id": "bcd2ad18-6209-4a88-97be-860c48620727",
   "metadata": {},
   "outputs": [
    {
     "name": "stdout",
     "output_type": "stream",
     "text": [
      "{'bjn_Latn': 62.3, 'lus_Latn': 44.5, 'pbt_Arab': 59.5, 'spa_Latn': 57.7, 'som_Latn': 56.1, 'pes_Arab': 63.0, 'gle_Latn': 66.5, 'szl_Latn': 66.5, 'zho_Hans': 57.2, 'kam_Latn': 38.2, 'dyu_Latn': 28.7, 'zul_Latn': 62.9, 'ron_Latn': 67.7, 'nno_Latn': 68.5, 'san_Deva': 50.7, 'xho_Latn': 61.7, 'hye_Armn': 65.3, 'hun_Latn': 63.0, 'lao_Laoo': 63.4, 'urd_Arab': 62.1, 'slv_Latn': 62.4, 'pag_Latn': 56.3, 'zho_Hant': 56.1, 'tzm_Tfng': 39.9, 'nob_Latn': 67.6, 'gaz_Latn': 50.7, 'isl_Latn': 61.7, 'arb_Arab': 65.7, 'mri_Latn': 54.3, 'sun_Latn': 63.5, 'asm_Beng': 58.4, 'yue_Hant': 58.3, 'hrv_Latn': 64.5, 'lug_Latn': 50.4, 'bem_Latn': 48.7, 'grn_Latn': 50.3, 'khm_Khmr': 59.7, 'taq_Latn': 27.1, 'ckb_Arab': 60.5, 'afr_Latn': 76.8, 'mos_Latn': 26.2, 'min_Arab': 44.5, 'lin_Latn': 50.0, 'sna_Latn': 52.2, 'cym_Latn': 77.2, 'ory_Orya': 63.0, 'ita_Latn': 59.9, 'ban_Latn': 61.4, 'zsm_Latn': 69.1, 'bod_Tibt': 45.1, 'ibo_Latn': 55.2, 'kaz_Cyrl': 61.6, 'jpn_Jpan': 56.0, 'smo_Latn': 57.8, 'npi_Deva': 66.4, 'snd_Arab': 65.4, 'jav_Latn': 65.0, 'tgk_Cyrl': 61.4, 'ell_Grek': 61.8, 'ayr_Latn': 35.3, 'bak_Cyrl': 58.2, 'uig_Arab': 54.5, 'kin_Latn': 56.6, 'acm_Arab': 59.7, 'kas_Deva': 48.2, 'lua_Latn': 42.2, 'kbp_Latn': 33.8, 'ace_Latn': 56.2, 'ceb_Latn': 69.7, 'als_Latn': 66.4, 'fra_Latn': 68.0, 'nus_Latn': 20.5, 'guj_Gujr': 66.6, 'tat_Cyrl': 59.1, 'knc_Latn': 23.8, 'ssw_Latn': 52.5, 'nya_Latn': 53.2, 'yor_Latn': 48.7, 'pan_Guru': 64.8, 'sin_Sinh': 62.5, 'ast_Latn': 66.6, 'srd_Latn': 68.5, 'sot_Latn': 61.1, 'fin_Latn': 61.7, 'amh_Ethi': 63.4, 'kon_Latn': 46.0, 'kmr_Latn': 57.4, 'uzn_Latn': 62.2, 'bul_Cyrl': 67.7, 'kir_Cyrl': 53.9, 'bos_Latn': 67.8, 'aka_Latn': 45.9, 'fur_Latn': 65.7, 'ltg_Latn': 65.1, 'tsn_Latn': 52.7, 'war_Latn': 71.3, 'tso_Latn': 55.1, 'ajp_Arab': 65.6, 'khk_Cyrl': 58.5, 'fon_Latn': 33.0, 'cjk_Latn': 26.8, 'sat_Olck': 53.1, 'cat_Latn': 69.7, 'ind_Latn': 68.6, 'mai_Deva': 66.7, 'plt_Latn': 56.9, 'arz_Arab': 57.9, 'taq_Tfng': 20.7, 'arb_Latn': 61.2, 'run_Latn': 48.5, 'eus_Latn': 59.2, 'lim_Latn': 67.3, 'kan_Knda': 60.8, 'ydd_Hebr': 74.3, 'bel_Cyrl': 50.2, 'bam_Latn': 37.6, 'vec_Latn': 67.2, 'prs_Arab': 64.5, 'tuk_Latn': 61.8, 'tgl_Latn': 69.5, 'fij_Latn': 46.1, 'nld_Latn': 58.9, 'luo_Latn': 39.9, 'mar_Deva': 62.9, 'min_Latn': 63.4, 'umb_Latn': 30.6, 'kas_Arab': 55.9, 'ewe_Latn': 42.2, 'lmo_Latn': 64.4, 'wol_Latn': 45.8, 'kik_Latn': 47.3, 'mlt_Latn': 76.0, 'kmb_Latn': 33.9, 'hne_Deva': 68.0, 'mkd_Cyrl': 67.6, 'kat_Geor': 57.2, 'rus_Cyrl': 62.0, 'aeb_Arab': 57.8, 'bjn_Arab': 47.2, 'tam_Taml': 60.3, 'fao_Latn': 63.6, 'slk_Latn': 65.3, 'deu_Latn': 67.9, 'awa_Deva': 62.3, 'mya_Mymr': 56.4, 'kor_Hang': 58.3, 'apc_Arab': 63.3, 'twi_Latn': 49.3, 'ces_Latn': 65.7, 'hat_Latn': 65.1, 'hau_Latn': 59.0, 'glg_Latn': 66.1, 'swe_Latn': 70.8, 'mni_Beng': 48.9, 'ben_Beng': 61.7, 'fuv_Latn': 32.9, 'pap_Latn': 73.1, 'mag_Deva': 67.5, 'vie_Latn': 62.0, 'acq_Arab': 61.1, 'oci_Latn': 74.8, 'dik_Latn': 27.9, 'lvs_Latn': 62.8, 'shn_Mymr': 45.6, 'est_Latn': 64.5, 'kac_Latn': 37.3, 'kab_Latn': 47.6, 'sag_Latn': 38.2, 'swh_Latn': 68.8, 'ary_Arab': 56.6, 'azj_Latn': 52.3, 'tur_Latn': 64.4, 'bug_Latn': 43.4, 'por_Latn': 71.8, 'azb_Arab': 50.5, 'ars_Arab': 64.3, 'mal_Mlym': 62.0, 'gla_Latn': 61.1, 'kea_Latn': 72.2, 'hin_Deva': 66.1, 'tpi_Latn': 53.3, 'srp_Cyrl': 68.3, 'crh_Latn': 57.7, 'lit_Latn': 61.5, 'tha_Thai': 59.0, 'dan_Latn': 71.1, 'tel_Telu': 65.3, 'scn_Latn': 64.1, 'lij_Latn': 67.5, 'ltz_Latn': 70.8, 'ilo_Latn': 63.3, 'tir_Ethi': 52.2, 'tum_Latn': 43.0, 'ukr_Cyrl': 65.7, 'pol_Latn': 58.1, 'epo_Latn': 68.2, 'ace_Arab': 37.3, 'nso_Latn': 62.8, 'heb_Hebr': 67.9, 'quy_Latn': 37.7, 'bho_Deva': 56.1, 'knc_Arab': 19.3, 'dzo_Tibt': 39.5}\n"
     ]
    }
   ],
   "source": [
    "#get scores \n",
    "\n",
    "import os\n",
    "import subprocess\n",
    "import json\n",
    "\n",
    "# Define paths\n",
    "translations_dir = \"translations_gemini_2_xx_eng2\"\n",
    "reference_file = \"reference_xx_eng/eng_Latn.txt\"\n",
    "\n",
    "# Dictionary to store scores\n",
    "scores = {}\n",
    "\n",
    "# Loop over all .txt files in the translations directory\n",
    "for file in os.listdir(translations_dir):\n",
    "    if file.endswith(\".txt\"):  # Process only .txt files\n",
    "        language_name = file.replace(\".txt\", \"\")  # Extract language name\n",
    "        translation_file = os.path.join(translations_dir, file)  # Full path\n",
    "\n",
    "        # Run sacrebleu command\n",
    "        command = f\"sacrebleu -m chrf --chrf-word-order 2 {translation_file} < {reference_file}\"\n",
    "        result = subprocess.run(command, shell=True, capture_output=True, text=True)\n",
    "\n",
    "        # Extract the score from the output\n",
    "        try:\n",
    "            output_json = json.loads(result.stdout)  # Parse JSON output\n",
    "            scores[language_name] = output_json[\"score\"]  # Store score\n",
    "        except json.JSONDecodeError:\n",
    "            print(f\"Error processing {language_name}: Invalid JSON output\")\n",
    "        except KeyError:\n",
    "            print(f\"Error: 'score' field not found in {language_name} output\")\n",
    "\n",
    "# Print results\n",
    "print(scores)\n"
   ]
  },
  {
   "cell_type": "code",
   "execution_count": 17,
   "id": "76b2950a-3885-4bb8-abbf-6eb4c6f9a9e7",
   "metadata": {},
   "outputs": [
    {
     "data": {
      "text/plain": [
       "np.float64(53.34679802955666)"
      ]
     },
     "execution_count": 17,
     "metadata": {},
     "output_type": "execute_result"
    }
   ],
   "source": [
    "import numpy as np\n",
    "np.mean(list(scores.values()))"
   ]
  },
  {
   "cell_type": "code",
   "execution_count": 2,
   "id": "e99b09d8-8163-4938-af6e-996babfab727",
   "metadata": {},
   "outputs": [
    {
     "name": "stdout",
     "output_type": "stream",
     "text": [
      "{'bjn_Latn': 48.1, 'lus_Latn': 35.9, 'pbt_Arab': 35.9, 'spa_Latn': 56.6, 'som_Latn': 41.0, 'pes_Arab': 52.7, 'gle_Latn': 58.7, 'szl_Latn': 41.5, 'zho_Hans': 32.8, 'kam_Latn': 23.9, 'dyu_Latn': 13.1, 'zul_Latn': 52.3, 'ron_Latn': 65.7, 'nno_Latn': 60.1, 'san_Deva': 28.0, 'xho_Latn': 46.5, 'hye_Armn': 56.0, 'hun_Latn': 56.4, 'lao_Laoo': 47.2, 'urd_Arab': 48.2, 'slv_Latn': 58.7, 'pag_Latn': 41.3, 'zho_Hant': 27.9, 'tzm_Tfng': 7.6, 'nob_Latn': 60.1, 'gaz_Latn': 37.2, 'isl_Latn': 53.5, 'arb_Arab': 55.8, 'mri_Latn': 47.3, 'sun_Latn': 46.7, 'asm_Beng': 30.9, 'yue_Hant': 17.0, 'hrv_Latn': 59.2, 'lug_Latn': 35.6, 'bem_Latn': 36.4, 'grn_Latn': 32.5, 'khm_Khmr': 40.0, 'taq_Latn': 15.7, 'ckb_Arab': 42.9, 'afr_Latn': 66.3, 'mos_Latn': 16.1, 'min_Arab': 13.1, 'lin_Latn': 42.3, 'sna_Latn': 44.8, 'cym_Latn': 72.3, 'ory_Orya': 47.9, 'ita_Latn': 60.7, 'ban_Latn': 42.3, 'zsm_Latn': 65.4, 'bod_Tibt': 32.3, 'ibo_Latn': 42.5, 'kaz_Cyrl': 53.7, 'jpn_Jpan': 34.3, 'smo_Latn': 49.8, 'npi_Deva': 51.1, 'snd_Arab': 46.3, 'jav_Latn': 51.8, 'tgk_Cyrl': 51.9, 'ell_Grek': 55.0, 'ayr_Latn': 24.3, 'bak_Cyrl': 50.9, 'uig_Arab': 46.7, 'kin_Latn': 47.5, 'acm_Arab': 38.3, 'kas_Deva': 12.5, 'lua_Latn': 32.6, 'kbp_Latn': 17.9, 'ace_Latn': 26.8, 'ceb_Latn': 60.4, 'als_Latn': 60.6, 'fra_Latn': 70.9, 'nus_Latn': 7.5, 'guj_Gujr': 51.7, 'tat_Cyrl': 51.4, 'knc_Latn': 17.0, 'ssw_Latn': 35.7, 'nya_Latn': 46.5, 'yor_Latn': 27.6, 'pan_Guru': 45.3, 'sin_Sinh': 49.4, 'ast_Latn': 58.0, 'srd_Latn': 51.1, 'sot_Latn': 49.6, 'fin_Latn': 58.8, 'amh_Ethi': 37.9, 'kon_Latn': 26.6, 'kmr_Latn': 39.0, 'uzn_Latn': 48.9, 'bul_Cyrl': 65.7, 'kir_Cyrl': 46.3, 'bos_Latn': 61.2, 'aka_Latn': 34.7, 'fur_Latn': 31.8, 'ltg_Latn': 40.8, 'tsn_Latn': 47.9, 'war_Latn': 57.3, 'tso_Latn': 42.6, 'ajp_Arab': 44.4, 'khk_Cyrl': 47.1, 'fon_Latn': 5.8, 'cjk_Latn': 20.1, 'sat_Olck': 28.5, 'cat_Latn': 66.8, 'ind_Latn': 69.0, 'mai_Deva': 47.1, 'plt_Latn': 43.7, 'arz_Arab': 44.3, 'taq_Tfng': 11.2, 'arb_Latn': 17.1, 'run_Latn': 38.7, 'eus_Latn': 54.5, 'lim_Latn': 42.2, 'kan_Knda': 51.9, 'ydd_Hebr': 34.6, 'bel_Cyrl': 46.9, 'bam_Latn': 19.3, 'vec_Latn': 45.9, 'prs_Arab': 48.1, 'tuk_Latn': 52.2, 'tgl_Latn': 63.5, 'fij_Latn': 39.2, 'nld_Latn': 57.0, 'luo_Latn': 35.0, 'mar_Deva': 45.9, 'min_Latn': 52.2, 'umb_Latn': 21.5, 'kas_Arab': 17.9, 'ewe_Latn': 2.8, 'lmo_Latn': 32.1, 'wol_Latn': 27.8, 'kik_Latn': 32.1, 'mlt_Latn': 69.2, 'kmb_Latn': 23.8, 'hne_Deva': 26.1, 'mkd_Cyrl': 63.5, 'kat_Geor': 52.5, 'rus_Cyrl': 58.9, 'aeb_Arab': 38.1, 'bjn_Arab': 12.2, 'tam_Taml': 51.8, 'fao_Latn': 51.9, 'slk_Latn': 61.1, 'deu_Latn': 66.0, 'awa_Deva': 24.9, 'mya_Mymr': 39.4, 'kor_Hang': 37.8, 'apc_Arab': 45.5, 'twi_Latn': 35.9, 'ces_Latn': 59.1, 'hat_Latn': 53.1, 'hau_Latn': 50.2, 'glg_Latn': 63.3, 'swe_Latn': 69.0, 'mni_Beng': 22.3, 'ben_Beng': 47.0, 'fuv_Latn': 13.6, 'pap_Latn': 61.3, 'mag_Deva': 32.8, 'vie_Latn': 60.8, 'acq_Arab': 39.5, 'oci_Latn': 65.2, 'dik_Latn': 16.8, 'lvs_Latn': 60.6, 'shn_Mymr': 25.4, 'est_Latn': 58.9, 'kac_Latn': 35.4, 'kab_Latn': 21.9, 'sag_Latn': 29.7, 'swh_Latn': 61.8, 'ary_Arab': 36.1, 'azj_Latn': 46.3, 'tur_Latn': 59.8, 'bug_Latn': 10.1, 'por_Latn': 70.5, 'azb_Arab': 23.7, 'ars_Arab': 43.7, 'mal_Mlym': 40.7, 'gla_Latn': 50.8, 'kea_Latn': 51.8, 'hin_Deva': 55.5, 'tpi_Latn': 47.4, 'srp_Cyrl': 13.3, 'crh_Latn': 30.2, 'lit_Latn': 57.0, 'tha_Thai': 49.6, 'dan_Latn': 58.4, 'tel_Telu': 52.0, 'scn_Latn': 34.3, 'lij_Latn': 43.8, 'ltz_Latn': 58.4, 'ilo_Latn': 53.6, 'tir_Ethi': 23.0, 'tum_Latn': 36.1, 'ukr_Cyrl': 58.3, 'pol_Latn': 51.6, 'epo_Latn': 62.1, 'ace_Arab': 8.4, 'nso_Latn': 50.4, 'heb_Hebr': 60.9, 'quy_Latn': 31.1, 'bho_Deva': 37.8, 'knc_Arab': 8.9, 'dzo_Tibt': 29.8}\n"
     ]
    }
   ],
   "source": [
    "#get scores2 for eng to xx\n",
    "\n",
    "import os\n",
    "import subprocess\n",
    "import json\n",
    "\n",
    "# Define paths\n",
    "translations_dir = \"translations_gemini_2_eng_xx2\"\n",
    "reference_dir = \"reference_eng_xx\"\n",
    "\n",
    "# Dictionary to store scores2\n",
    "scores2 = {}\n",
    "\n",
    "# Loop over all .txt files in the translations directory\n",
    "for file in os.listdir(translations_dir):\n",
    "    if file.endswith(\".txt\"):  # Process only .txt files\n",
    "        language_name = file.replace(\".txt\", \"\")  # Extract language name\n",
    "        translation_file = os.path.join(translations_dir, file)  # Full path\n",
    "        reference_file = os.path.join(reference_dir, file)  # Full path\n",
    "\n",
    "        # Run sacrebleu command\n",
    "        command = f\"sacrebleu -m chrf --chrf-word-order 2 {translation_file} < {reference_file}\"\n",
    "        result = subprocess.run(command, shell=True, capture_output=True, text=True)\n",
    "\n",
    "        # Extract the score from the output\n",
    "        try:\n",
    "            output_json = json.loads(result.stdout)  # Parse JSON output\n",
    "            scores2[language_name] = output_json[\"score\"]  # Store score\n",
    "        except json.JSONDecodeError:\n",
    "            print(f\"Error processing {language_name}: Invalid JSON output\")\n",
    "        except KeyError:\n",
    "            print(f\"Error: 'score' field not found in {language_name} output\")\n",
    "\n",
    "# Print results\n",
    "print(scores2)\n"
   ]
  },
  {
   "cell_type": "code",
   "execution_count": 6,
   "id": "09ac53cb-3763-478f-9297-a9a2ed226341",
   "metadata": {},
   "outputs": [],
   "source": [
    "# Convert to DataFrame\n",
    "all_languages = list(language_mapping_index.keys())\n",
    "all_languages.remove('eng_Latn')\n",
    "\n",
    "all_languages2 = list(language_mapping_index.values())\n",
    "all_languages2.remove('English')\n",
    "\n",
    "df = pd.DataFrame({\n",
    "    \"Language\": all_languages2,\n",
    "    \"FLORES-200 code\": all_languages,\n",
    "    \"xx - English\": [scores[lang] for lang in all_languages],\n",
    "    \"English - xx\": [scores2[lang] for lang in all_languages]\n",
    "})\n",
    "\n",
    "# Save to CSV\n",
    "df.to_csv(\"flores_gemini2_results_april_2025.csv\", index=False)\n"
   ]
  },
  {
   "cell_type": "code",
   "execution_count": null,
   "id": "8225cce1-0ddf-4695-ac8e-d237b6e68a2d",
   "metadata": {},
   "outputs": [],
   "source": []
  }
 ],
 "metadata": {
  "kernelspec": {
   "display_name": "Python 3 (ipykernel)",
   "language": "python",
   "name": "python3"
  },
  "language_info": {
   "codemirror_mode": {
    "name": "ipython",
    "version": 3
   },
   "file_extension": ".py",
   "mimetype": "text/x-python",
   "name": "python",
   "nbconvert_exporter": "python",
   "pygments_lexer": "ipython3",
   "version": "3.9.20"
  }
 },
 "nbformat": 4,
 "nbformat_minor": 5
}
